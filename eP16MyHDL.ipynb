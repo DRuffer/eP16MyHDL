{
 "cells": [
  {
   "cell_type": "markdown",
   "metadata": {},
   "source": [
    "# eP16"
   ]
  },
  {
   "cell_type": "markdown",
   "metadata": {},
   "source": [
    "This file and it's support can be found @ https://github.com/DRuffer/eP16MyHDL\n",
    "\n",
    "To run this in the interactive editor, type: **jupyter notebook eP16MyHDL.ipynb**.\n",
    "\n",
    "To just run as a script, type: **runipy eP16MyHDL.ipynb**. This is not working at the moment.\n",
    "\n",
    "To get PDF output, type: **jupyter nbconvert --to pdf eP16MyHDL.ipynb**.\n",
    "  However, you have to setup Pandoc and LaTeK.\n",
    "\n",
    "After runipy, **echo Exit Code is %ERRORLEVEL%** displays:\n",
    "  **True** if the assert passes and\n",
    "  **False** if it does not.\n",
    "\n",
    "Note that it's called `$LastExitCode` in PowerShell."
   ]
  },
  {
   "cell_type": "code",
   "execution_count": 1,
   "metadata": {
    "collapsed": false
   },
   "outputs": [
    {
     "name": "stdout",
     "output_type": "stream",
     "text": [
      "Current date and time 07/23/16 14:54:01\n",
      "Python version 2.7.12 \n",
      "\r",
      "Continuum Analytics, Inc.\n",
      "\r",
      " (default, Jun 29 2016, 11:07:13) [MSC v.1500 64 bit (AMD64)]\n"
     ]
    }
   ],
   "source": [
    "import re\n",
    "import sys\n",
    "import time\n",
    "import unittest\n",
    "import subprocess\n",
    "from myhdl import *\n",
    "from random import randrange\n",
    "\n",
    "print (\"Current date and time %s\"  % time.strftime(\"%c\") )\n",
    "\n",
    "print (\"Python version %s\" % sys.version.replace(\"|\",\"\\n\\r\"))"
   ]
  },
  {
   "cell_type": "markdown",
   "metadata": {},
   "source": [
    "## DFF"
   ]
  },
  {
   "cell_type": "markdown",
   "metadata": {},
   "source": [
    "Starting from the MyHDL D flip-flop example at http://www.myhdl.org/docs/examples/flipflops.html"
   ]
  },
  {
   "cell_type": "code",
   "execution_count": 2,
   "metadata": {
    "collapsed": false
   },
   "outputs": [
    {
     "name": "stderr",
     "output_type": "stream",
     "text": [
      "<class 'myhdl._SuspendSimulation'>: Simulated 2000 timesteps\n"
     ]
    }
   ],
   "source": [
    "def dff(led_0, sw_7, clk):\n",
    "\n",
    "    @always(clk.posedge)\n",
    "    def logic():\n",
    "        led_0.next = sw_7\n",
    "\n",
    "    return logic\n",
    "\n",
    "def test_dff():\n",
    "\n",
    "    q, d, clk = [Signal(bool(0)) for i in range(3)]\n",
    "\n",
    "    dff_inst = dff(q, d, clk)\n",
    "\n",
    "    @always(delay(10))\n",
    "    def clkgen():\n",
    "        clk.next = not clk\n",
    "\n",
    "    @always(clk.negedge)\n",
    "    def stimulus():\n",
    "        d.next = randrange(2)\n",
    "\n",
    "    return dff_inst, clkgen, stimulus\n",
    "\n",
    "\n",
    "def simulate(timesteps):\n",
    "    tb = traceSignals(test_dff)\n",
    "    sim = Simulation(tb)\n",
    "    sim.run(timesteps)\n",
    "\n",
    "simulate(2000)"
   ]
  },
  {
   "cell_type": "markdown",
   "metadata": {},
   "source": [
    "I'm going to skip the simulation part, for the moment, because I'm more interested in the VHDL output"
   ]
  },
  {
   "cell_type": "code",
   "execution_count": 3,
   "metadata": {
    "collapsed": false
   },
   "outputs": [],
   "source": [
    "q, d, clk = [Signal(bool(1)) for i in range(3)]\n",
    "\n",
    "for f in (toVHDL, toVerilog):\n",
    "    f(dff, q, d, clk)"
   ]
  },
  {
   "cell_type": "markdown",
   "metadata": {},
   "source": [
    "## UART"
   ]
  },
  {
   "cell_type": "markdown",
   "metadata": {},
   "source": [
    "To start this process off, let's start with the UART, so I can get feedback that can actually be tested.\n",
    "The **eP16.lpf** file gives the key to find: `uart_o`. That leads us to **ep16_chip.vhd**, which gives us the connection to `txd_o` that is defined in **uart16.vhd**."
   ]
  },
  {
   "cell_type": "markdown",
   "metadata": {},
   "source": [
    "## Output"
   ]
  },
  {
   "cell_type": "markdown",
   "metadata": {},
   "source": [
    "Now, we can tell Lattice Diamond to do its thing."
   ]
  },
  {
   "cell_type": "code",
   "execution_count": 4,
   "metadata": {
    "collapsed": false,
    "scrolled": true
   },
   "outputs": [
    {
     "name": "stdout",
     "output_type": "stream",
     "text": [
      "WARNING - par: The following clock signals will be routed by using generic routing resource and may suffer from excessive delay and/or skew.\n",
      "WARNING - par: The following clock signals will be routed by using generic routing resource and may suffer from excessive delay and/or skew.\n"
     ]
    },
    {
     "data": {
      "text/plain": [
       "0"
      ]
     },
     "execution_count": 4,
     "metadata": {},
     "output_type": "execute_result"
    }
   ],
   "source": [
    "p = subprocess.Popen('pnmainc ep16MyHDL.tcl', shell=True, \\\n",
    "                     stdout=subprocess.PIPE, \\\n",
    "                     stderr=subprocess.STDOUT)\n",
    "for line in p.stdout.readlines():\n",
    "    line = re.sub(r'[^ -}]', '', line.strip())\n",
    "    if ((-1 != line.find(\"WARNING\")) or (-1 != line.find(\"ERROR\"))):\n",
    "        print (line)\n",
    "p.wait()"
   ]
  },
  {
   "cell_type": "markdown",
   "metadata": {},
   "source": [
    "At this point, we should have some results on the serial port, but not until we get there.\n",
    "\n",
    "Instead, led_0 turns on when sw_7 is pressed.\n",
    "\n",
    "Good 1st test."
   ]
  }
 ],
 "metadata": {
  "celltoolbar": "Edit Metadata",
  "kernelspec": {
   "display_name": "Python 2",
   "language": "python",
   "name": "python2"
  },
  "language_info": {
   "codemirror_mode": {
    "name": "ipython",
    "version": 2
   },
   "file_extension": ".py",
   "mimetype": "text/x-python",
   "name": "python",
   "nbconvert_exporter": "python",
   "pygments_lexer": "ipython2",
   "version": "2.7.12"
  }
 },
 "nbformat": 4,
 "nbformat_minor": 0
}
